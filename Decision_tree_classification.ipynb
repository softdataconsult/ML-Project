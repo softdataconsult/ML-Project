{
 "cells": [
  {
   "cell_type": "markdown",
   "id": "e2c10a78",
   "metadata": {},
   "source": [
    "#### **DECISION TREE CLASSIFICATION**"
   ]
  },
  {
   "cell_type": "markdown",
   "id": "5074b76c",
   "metadata": {},
   "source": [
    "####  Load the necessary libraries"
   ]
  },
  {
   "cell_type": "code",
   "execution_count": 1,
   "id": "072a089e",
   "metadata": {},
   "outputs": [],
   "source": [
    "import numpy as np\n",
    "import pandas as pd\n",
    "from sklearn.tree import DecisionTreeClassifier\n",
    "from sklearn.model_selection import train_test_split\n",
    "from sklearn.metrics import accuracy_score, classification_report"
   ]
  },
  {
   "cell_type": "code",
   "execution_count": 3,
   "id": "7e0ba5b4",
   "metadata": {},
   "outputs": [
    {
     "name": "stdout",
     "output_type": "stream",
     "text": [
      "Index(['GDP_percapitaUSD', 'Life_exp', 'Ext_debt', 'Age_dep_ratio',\n",
      "       'Population', 'CBR', 'Access_fuels_cooking', 'Access_electricity',\n",
      "       'infant_mortality', 'neonatal_deaths'],\n",
      "      dtype='object')\n",
      "   GDP_percapitaUSD  Life_exp     Ext_debt  Age_dep_ratio  Population     CBR  \\\n",
      "0       2728.022788    37.371  836680592.1      79.636574    44928342  46.107   \n",
      "1         97.420968    37.673  836680592.1      79.603584    45855507  46.243   \n",
      "2        104.852749    37.809  836680592.1      79.679816    46821845  46.426   \n",
      "3        108.015742    38.192  836680592.1      80.003736    47822569  46.421   \n",
      "4        113.658375    38.415  836680592.1      80.639721    48856332  46.463   \n",
      "\n",
      "   Access_fuels_cooking  Access_electricity  infant_mortality  neonatal_deaths  \n",
      "0                   0.0                 2.0        202.250894      140975.5720  \n",
      "1                   0.1                 3.0        200.385976      143289.3341  \n",
      "2                   0.1                 4.0        198.521059      145603.0963  \n",
      "3                   0.1                 4.0        196.656141      147916.8585  \n",
      "4                   0.1                 4.0        194.791224      150230.6207  \n",
      "     GDP_percapitaUSD   Life_exp      Ext_debt  Age_dep_ratio  Population  \\\n",
      "184       2125.834491  52.554000  6.656559e+10      88.334853   198387623   \n",
      "185       2334.023643  52.910000  7.770889e+10      87.680501   203304492   \n",
      "186       1223.603921  52.887000  8.283331e+10      86.931324   208327405   \n",
      "187       2065.774410  52.676000  9.088707e+10      86.107637   213401323   \n",
      "188       2162.633734  53.600033  9.833533e+10      85.250698   218541212   \n",
      "\n",
      "         CBR  Access_fuels_cooking  Access_electricity  infant_mortality  \\\n",
      "184  38.2480                   8.7                54.4              77.1   \n",
      "185  37.8490                  10.7                56.5              75.5   \n",
      "186  37.4670                  12.8                55.4              73.9   \n",
      "187  37.1170                  14.9                55.4              72.3   \n",
      "188  36.7265                  16.8                59.5              70.6   \n",
      "\n",
      "     neonatal_deaths  \n",
      "184         274797.0  \n",
      "185         275991.0  \n",
      "186         276441.0  \n",
      "187         276770.0  \n",
      "188         276463.0  \n"
     ]
    }
   ],
   "source": [
    "# Load the CSV file into a pandas DataFrame\n",
    "df = pd.read_csv('data_for_analysis.csv')\n",
    "\n",
    "# Display the column names to verify correctness\n",
    "print(df.columns)\n",
    "print(df.head())\n",
    "print(df.tail())"
   ]
  },
  {
   "cell_type": "markdown",
   "id": "b995e92f",
   "metadata": {},
   "source": [
    "#### Summary / Descriptive statistics"
   ]
  },
  {
   "cell_type": "code",
   "execution_count": 4,
   "id": "d1f103f7",
   "metadata": {
    "scrolled": true
   },
   "outputs": [
    {
     "data": {
      "text/html": [
       "<div>\n",
       "<style scoped>\n",
       "    .dataframe tbody tr th:only-of-type {\n",
       "        vertical-align: middle;\n",
       "    }\n",
       "\n",
       "    .dataframe tbody tr th {\n",
       "        vertical-align: top;\n",
       "    }\n",
       "\n",
       "    .dataframe thead th {\n",
       "        text-align: right;\n",
       "    }\n",
       "</style>\n",
       "<table border=\"1\" class=\"dataframe\">\n",
       "  <thead>\n",
       "    <tr style=\"text-align: right;\">\n",
       "      <th></th>\n",
       "      <th>GDP_percapitaUSD</th>\n",
       "      <th>Life_exp</th>\n",
       "      <th>Ext_debt</th>\n",
       "      <th>Age_dep_ratio</th>\n",
       "      <th>Population</th>\n",
       "      <th>CBR</th>\n",
       "      <th>Access_fuels_cooking</th>\n",
       "      <th>Access_electricity</th>\n",
       "      <th>infant_mortality</th>\n",
       "      <th>neonatal_deaths</th>\n",
       "    </tr>\n",
       "  </thead>\n",
       "  <tbody>\n",
       "    <tr>\n",
       "      <th>count</th>\n",
       "      <td>189.000000</td>\n",
       "      <td>189.000000</td>\n",
       "      <td>1.890000e+02</td>\n",
       "      <td>189.000000</td>\n",
       "      <td>1.890000e+02</td>\n",
       "      <td>189.000000</td>\n",
       "      <td>189.000000</td>\n",
       "      <td>189.000000</td>\n",
       "      <td>189.000000</td>\n",
       "      <td>189.000000</td>\n",
       "    </tr>\n",
       "    <tr>\n",
       "      <th>mean</th>\n",
       "      <td>1141.405184</td>\n",
       "      <td>46.087477</td>\n",
       "      <td>2.538245e+10</td>\n",
       "      <td>87.550538</td>\n",
       "      <td>1.089901e+08</td>\n",
       "      <td>44.008992</td>\n",
       "      <td>1.868254</td>\n",
       "      <td>30.035857</td>\n",
       "      <td>125.552465</td>\n",
       "      <td>212702.199784</td>\n",
       "    </tr>\n",
       "    <tr>\n",
       "      <th>std</th>\n",
       "      <td>891.741933</td>\n",
       "      <td>4.635324</td>\n",
       "      <td>2.316766e+10</td>\n",
       "      <td>3.663672</td>\n",
       "      <td>5.103078e+07</td>\n",
       "      <td>3.030280</td>\n",
       "      <td>3.545007</td>\n",
       "      <td>18.872089</td>\n",
       "      <td>37.818554</td>\n",
       "      <td>42645.045034</td>\n",
       "    </tr>\n",
       "    <tr>\n",
       "      <th>min</th>\n",
       "      <td>93.397048</td>\n",
       "      <td>37.371000</td>\n",
       "      <td>8.366806e+08</td>\n",
       "      <td>79.603584</td>\n",
       "      <td>4.492834e+07</td>\n",
       "      <td>36.726500</td>\n",
       "      <td>0.000000</td>\n",
       "      <td>2.000000</td>\n",
       "      <td>70.600000</td>\n",
       "      <td>140975.572000</td>\n",
       "    </tr>\n",
       "    <tr>\n",
       "      <th>25%</th>\n",
       "      <td>474.456900</td>\n",
       "      <td>43.662000</td>\n",
       "      <td>1.778977e+09</td>\n",
       "      <td>85.413629</td>\n",
       "      <td>6.285131e+07</td>\n",
       "      <td>42.721000</td>\n",
       "      <td>0.400000</td>\n",
       "      <td>14.000000</td>\n",
       "      <td>92.400000</td>\n",
       "      <td>178005.000000</td>\n",
       "    </tr>\n",
       "    <tr>\n",
       "      <th>50%</th>\n",
       "      <td>762.398733</td>\n",
       "      <td>46.182000</td>\n",
       "      <td>2.826220e+10</td>\n",
       "      <td>88.101252</td>\n",
       "      <td>9.768536e+07</td>\n",
       "      <td>43.791000</td>\n",
       "      <td>0.500000</td>\n",
       "      <td>24.000000</td>\n",
       "      <td>123.000000</td>\n",
       "      <td>207187.000000</td>\n",
       "    </tr>\n",
       "    <tr>\n",
       "      <th>75%</th>\n",
       "      <td>1941.879479</td>\n",
       "      <td>50.033000</td>\n",
       "      <td>3.460813e+10</td>\n",
       "      <td>90.129897</td>\n",
       "      <td>1.482940e+08</td>\n",
       "      <td>46.527000</td>\n",
       "      <td>1.000000</td>\n",
       "      <td>48.000000</td>\n",
       "      <td>148.500000</td>\n",
       "      <td>249088.000000</td>\n",
       "    </tr>\n",
       "    <tr>\n",
       "      <th>max</th>\n",
       "      <td>3200.952799</td>\n",
       "      <td>53.600033</td>\n",
       "      <td>9.833533e+10</td>\n",
       "      <td>93.070089</td>\n",
       "      <td>2.185412e+08</td>\n",
       "      <td>48.223000</td>\n",
       "      <td>16.800000</td>\n",
       "      <td>59.500000</td>\n",
       "      <td>202.250894</td>\n",
       "      <td>276770.000000</td>\n",
       "    </tr>\n",
       "  </tbody>\n",
       "</table>\n",
       "</div>"
      ],
      "text/plain": [
       "       GDP_percapitaUSD    Life_exp      Ext_debt  Age_dep_ratio  \\\n",
       "count        189.000000  189.000000  1.890000e+02     189.000000   \n",
       "mean        1141.405184   46.087477  2.538245e+10      87.550538   \n",
       "std          891.741933    4.635324  2.316766e+10       3.663672   \n",
       "min           93.397048   37.371000  8.366806e+08      79.603584   \n",
       "25%          474.456900   43.662000  1.778977e+09      85.413629   \n",
       "50%          762.398733   46.182000  2.826220e+10      88.101252   \n",
       "75%         1941.879479   50.033000  3.460813e+10      90.129897   \n",
       "max         3200.952799   53.600033  9.833533e+10      93.070089   \n",
       "\n",
       "         Population         CBR  Access_fuels_cooking  Access_electricity  \\\n",
       "count  1.890000e+02  189.000000            189.000000          189.000000   \n",
       "mean   1.089901e+08   44.008992              1.868254           30.035857   \n",
       "std    5.103078e+07    3.030280              3.545007           18.872089   \n",
       "min    4.492834e+07   36.726500              0.000000            2.000000   \n",
       "25%    6.285131e+07   42.721000              0.400000           14.000000   \n",
       "50%    9.768536e+07   43.791000              0.500000           24.000000   \n",
       "75%    1.482940e+08   46.527000              1.000000           48.000000   \n",
       "max    2.185412e+08   48.223000             16.800000           59.500000   \n",
       "\n",
       "       infant_mortality  neonatal_deaths  \n",
       "count        189.000000       189.000000  \n",
       "mean         125.552465    212702.199784  \n",
       "std           37.818554     42645.045034  \n",
       "min           70.600000    140975.572000  \n",
       "25%           92.400000    178005.000000  \n",
       "50%          123.000000    207187.000000  \n",
       "75%          148.500000    249088.000000  \n",
       "max          202.250894    276770.000000  "
      ]
     },
     "execution_count": 4,
     "metadata": {},
     "output_type": "execute_result"
    }
   ],
   "source": [
    "df.describe()"
   ]
  },
  {
   "cell_type": "code",
   "execution_count": 5,
   "id": "060dabb7",
   "metadata": {},
   "outputs": [
    {
     "data": {
      "text/plain": [
       "1890"
      ]
     },
     "execution_count": 5,
     "metadata": {},
     "output_type": "execute_result"
    }
   ],
   "source": [
    "df.size"
   ]
  },
  {
   "cell_type": "code",
   "execution_count": 40,
   "id": "c8819071",
   "metadata": {
    "scrolled": true
   },
   "outputs": [
    {
     "data": {
      "text/plain": [
       "(378, 10)"
      ]
     },
     "execution_count": 40,
     "metadata": {},
     "output_type": "execute_result"
    }
   ],
   "source": [
    "df.shape"
   ]
  },
  {
   "cell_type": "markdown",
   "id": "2082570f",
   "metadata": {},
   "source": [
    "###  Convert  y series numerical data into binary values "
   ]
  },
  {
   "cell_type": "code",
   "execution_count": 248,
   "id": "bbbb5f17",
   "metadata": {
    "scrolled": true
   },
   "outputs": [
    {
     "data": {
      "text/plain": [
       "0      1\n",
       "1      0\n",
       "2      0\n",
       "3      0\n",
       "4      0\n",
       "      ..\n",
       "184    1\n",
       "185    1\n",
       "186    0\n",
       "187    1\n",
       "188    1\n",
       "Name: GDP_binary, Length: 189, dtype: int32"
      ]
     },
     "execution_count": 248,
     "metadata": {},
     "output_type": "execute_result"
    }
   ],
   "source": [
    "# Define a threshold for binary conversion\n",
    "threshold = 2000\n",
    "\n",
    "# Convert 'GDP_percapitaUSD' to binary (0 or 1) based on the threshold\n",
    "df['GDP_binary'] = (df['GDP_percapitaUSD'] >= threshold).astype(int)\n",
    "\n",
    "# Display the DataFrame with binary conversion\n",
    "df['GDP_binary'] \n",
    "\n"
   ]
  },
  {
   "cell_type": "markdown",
   "id": "5df70fa6",
   "metadata": {},
   "source": [
    "#### Split the dataset into training and testing sets"
   ]
  },
  {
   "cell_type": "code",
   "execution_count": 249,
   "id": "892aea69",
   "metadata": {},
   "outputs": [],
   "source": [
    "# Assuming 'df' contains the dataset with feature variables and target variable 'y'\n",
    "\n",
    "# Extracting selected features (columns 2 to 10)\n",
    "\n",
    "selected_features = df.iloc[:, 1:10]  # Assuming columns 2 to 2549 are your feature variables\n",
    "\n",
    "# Extracting the target variable 'y'\n",
    "y = df['GDP_binary']\n",
    "target_variable = df['GDP_binary']  # Assuming 'y' is the name of your target variable column\n",
    "\n",
    "# Splitting the data into training and testing sets (e.g., 80% training, 20% testing)\n",
    "X_train, X_test, y_train, y_test = train_test_split(selected_features, target_variable, test_size=0.2, random_state=123)"
   ]
  },
  {
   "cell_type": "code",
   "execution_count": 78,
   "id": "4f732d0c",
   "metadata": {
    "scrolled": false
   },
   "outputs": [
    {
     "data": {
      "text/plain": [
       "0      1\n",
       "1      0\n",
       "2      1\n",
       "3      0\n",
       "4      1\n",
       "      ..\n",
       "373    1\n",
       "374    1\n",
       "375    1\n",
       "376    1\n",
       "377    1\n",
       "Name: GDP_binary, Length: 378, dtype: int32"
      ]
     },
     "execution_count": 78,
     "metadata": {},
     "output_type": "execute_result"
    }
   ],
   "source": [
    "y"
   ]
  },
  {
   "cell_type": "markdown",
   "id": "4f822e50",
   "metadata": {},
   "source": [
    "#### Data normalisation"
   ]
  },
  {
   "cell_type": "code",
   "execution_count": 250,
   "id": "2d3c2d88",
   "metadata": {},
   "outputs": [],
   "source": [
    "# Performing data normalisation\n",
    "from sklearn.preprocessing import StandardScaler\n",
    "sc=StandardScaler()\n",
    "\n",
    "# scaling the training set\n",
    "X_train = sc.fit_transform(X_train)\n",
    "\n",
    "#scaling the test set\n",
    "X_test = sc.transform (X_test)"
   ]
  },
  {
   "cell_type": "markdown",
   "id": "dde1b568",
   "metadata": {},
   "source": [
    "#### Training the Decision tree model "
   ]
  },
  {
   "cell_type": "code",
   "execution_count": 241,
   "id": "65e335ca",
   "metadata": {},
   "outputs": [],
   "source": [
    "# PERFORMING DECISION TREE CLASSIFICATION\n",
    "# Create model\n",
    "dt_model = DecisionTreeClassifier()\n",
    "\n",
    "# Fit model\n",
    "dt_model.fit(X_train, y_train)\n",
    "\n",
    "# Make predictions \n",
    "y_pred = dt_model.predict(X_test)"
   ]
  },
  {
   "cell_type": "code",
   "execution_count": 251,
   "id": "418f070e",
   "metadata": {},
   "outputs": [
    {
     "name": "stdout",
     "output_type": "stream",
     "text": [
      "Accuracy: 0.9473684210526315\n"
     ]
    }
   ],
   "source": [
    "# Calculate the accuracy of the model\n",
    "accuracy = accuracy_score(y_test, y_pred)\n",
    "print(f\"Accuracy: {accuracy}\")"
   ]
  },
  {
   "cell_type": "markdown",
   "id": "88a19290",
   "metadata": {},
   "source": [
    "#### Confusion matrix"
   ]
  },
  {
   "cell_type": "code",
   "execution_count": 243,
   "id": "ee248396",
   "metadata": {},
   "outputs": [],
   "source": [
    "# Confusion matrix\n",
    "import matplotlib.pyplot as plt\n",
    "import seaborn as sns\n",
    "from sklearn.metrics import confusion_matrix"
   ]
  },
  {
   "cell_type": "code",
   "execution_count": 252,
   "id": "b74f8e6e",
   "metadata": {},
   "outputs": [
    {
     "name": "stdout",
     "output_type": "stream",
     "text": [
      "[[29  2]\n",
      " [ 0  7]]\n"
     ]
    }
   ],
   "source": [
    "### Calculate the confusion matrix\n",
    "cm = confusion_matrix(y_test, y_pred)  # note that y_test is the actual or true data\n",
    "print(cm)"
   ]
  },
  {
   "cell_type": "markdown",
   "id": "54f6ae28",
   "metadata": {},
   "source": [
    "#### The confusion matrix\n",
    "\n",
    "\\begin{array}{c|c|c|}\n",
    "& \\text{Predicted Class 0 (Negative)} & \\text{Predicted Class 1 (Positive)} \\\\\n",
    "\\hline\n",
    "\\text{Actual Class 0 (Negative)} & TN = 29 & FP = 2 \\\\\n",
    "\\hline\n",
    "\\text{Actual Class 1 (Positive)} & FN = 0 & TP = 7 \\\\\n",
    "\\end{array}\n",
    "\n",
    "Interpretation of the confusion matrix:\n",
    "- True Negative (TN): There are 29 instances where the model correctly predicted the GDP per capita trend to be below the threshold (Class 0 - Negative) when it was actually below the threshold.\n",
    "- False Positive (FP): There are 2 instances where the model incorrectly predicted the GDP per capita trend to be above the threshold (Class 1 - Positive) when it was actually below the threshold.\n",
    "- False Negative (FN): There are 0 instances where the model incorrectly predicted the GDP per capita trend to be below the threshold (Class 0 - Negative) when it was actually above the threshold.\n",
    "- True Positive (TP): There are 7 instances where the model correctly predicted the GDP per capita trend to be above the threshold (Class 1 - Positive) when it was actually above the threshold.\n",
    "\n",
    "This representation clarifies the classes associated with the predictions, making it easier to understand the performance of the model in distinguishing between the two classes (Negative and Positive) of GDP per capita trends."
   ]
  },
  {
   "cell_type": "code",
   "execution_count": 256,
   "id": "d27d64c0",
   "metadata": {},
   "outputs": [
    {
     "data": {
      "image/png": "[encoded data removed]",
      "text/plain": [
       "<Figure size 800x600 with 2 Axes>"
      ]
     },
     "metadata": {},
     "output_type": "display_data"
    }
   ],
   "source": [
    "# Example confusion matrix data\n",
    "confusion_matrix_data = {\n",
    "    'Predicted Class 0': [29, 0],\n",
    "    'Predicted Class 1': [2, 7]\n",
    "}\n",
    "\n",
    "# Convert the confusion matrix data to a DataFrame\n",
    "df_confusion_matrix = pd.DataFrame(confusion_matrix_data, index=['Actual Class 0', 'Actual Class 1'])\n",
    "\n",
    "# Plotting the confusion matrix heatmap\n",
    "plt.figure(figsize=(8, 6))\n",
    "sns.heatmap(df_confusion_matrix, annot=True, cmap='Blues', fmt='d')\n",
    "plt.title('Confusion Matrix Heatmap')\n",
    "plt.xlabel('Predicted Classes')\n",
    "plt.ylabel('Actual Classes')\n",
    "plt.show()\n"
   ]
  },
  {
   "cell_type": "markdown",
   "id": "a8373bfe",
   "metadata": {},
   "source": [
    "#### Classification report"
   ]
  },
  {
   "cell_type": "code",
   "execution_count": 254,
   "id": "22104cb2",
   "metadata": {},
   "outputs": [
    {
     "name": "stdout",
     "output_type": "stream",
     "text": [
      "              precision    recall  f1-score   support\n",
      "\n",
      "           0       1.00      0.94      0.97        31\n",
      "           1       0.78      1.00      0.88         7\n",
      "\n",
      "    accuracy                           0.95        38\n",
      "   macro avg       0.89      0.97      0.92        38\n",
      "weighted avg       0.96      0.95      0.95        38\n",
      "\n"
     ]
    }
   ],
   "source": [
    "# classification report\n",
    "class_rept = classification_report(y_test, y_pred)\n",
    "#print(f\"class_rept: {Classification report}\")\n",
    "print(class_rept)"
   ]
  },
  {
   "cell_type": "markdown",
   "id": "08258231",
   "metadata": {},
   "source": [
    "#### Classification report\n",
    "\n",
    "\\begin{array}{c|c|c|c|c|}\n",
    "\\text{Class} & \\text{Precision} & \\text{Recall} & \\text{F1-Score} & \\text{Support} \\\\\n",
    "\\hline\n",
    "0 & 1.00 & 0.94 & 0.97 & 31 \\\\\n",
    "1 & 0.78 & 1.00 & 0.88 & 7 \\\\\n",
    "\\hline\n",
    "\\text{Accuracy} &       &     & 0.95 \\\\\n",
    "\\text{Macro Avg} & 0.89 & 0.97 & 0.92 & 38 \\\\\n",
    "\\text{Weighted Avg} & 0.96 & 0.95 & 0.95 & 38 \\\\\n",
    "\\end{array}\n",
    "\n",
    "Interpretation of the classification report:\n",
    "- **Precision:** Precision measures the proportion of true positive predictions among all positive predictions made by the model.\n",
    "  - Class 0 (Negative): Precision of 1.00 (100%) means that when the model predicts a GDP per capita trend to be below the threshold (Class 0), it is correct 100% of the time.\n",
    "  - Class 1 (Positive): Precision of 0.78 (78%) means that when the model predicts a GDP per capita trend to be above the threshold (Class 1), it is correct 78% of the time.\n",
    "\n",
    "- **Recall (Sensitivity):** Recall measures the proportion of true positive predictions among all actual positive instances in the dataset.\n",
    "  - Class 0 (Negative): Recall of 0.94 (94%) means that the model correctly identifies 94% of instances of GDP per capita trends below the threshold (Class 0) out of all actual instances of Class 0.\n",
    "  - Class 1 (Positive): Recall of 1.00 (100%) means that the model captures all instances of GDP per capita trends above the threshold (Class 1) out of all actual instances of Class 1.\n",
    "\n",
    "- **F1-Score:** F1-score is the harmonic mean of precision and recall, providing a balanced measure of a model's performance.\n",
    "  - Class 0 (Negative): F1-Score of 0.97 (97%) combines the precision and recall for Class 0, providing a single metric that balances both aspects.\n",
    "  - Class 1 (Positive): F1-Score of 0.88 (88%) combines the precision and recall for Class 1, providing a single metric that balances both aspects.\n",
    "\n",
    "- **Support:** Support represents the number of actual occurrences of each class in the dataset.\n",
    "  - Class 0 (Negative): Support of 31 indicates there are 31 instances of GDP per capita trends below the threshold (Class 0) in the dataset.\n",
    "  - Class 1 (Positive): Support of 7 indicates there are 7 instances of GDP per capita trends above the threshold (Class 1) in the dataset.\n",
    "\n",
    "- **Accuracy:** Overall accuracy of 0.95 (95%) indicates that the model correctly predicts the GDP per capita trend (either below or above the threshold) 95% of the time across all instances in the dataset.\n",
    "  \n",
    "- **Macro Avg:** Macro average precision, recall, and F1-score provide the average performance across classes without considering class imbalance. In this case, it shows an average precision of 0.89 (89%), recall of 0.97 (97%), and F1-score of 0.92 (92%) across both classes.\n",
    "\n",
    "- **Weighted Avg:** Weighted average precision, recall, and F1-score provide the average performance across classes while considering class imbalance. In this case, it shows a weighted average precision of 0.96 (96%), recall of 0.95 (95%), and F1-score of 0.95 (95%) across both classes, weighted by the number of instances in each class.\n",
    "\n",
    "Overall, the model demonstrates good performance, with high precision, recall, and F1-score for both classes, as well as a high overall accuracy. However, it's important to consider the specific context of the problem and potential implications of false positive and false negative predictions when interpreting these metrics.\n",
    "\n"
   ]
  },
  {
   "cell_type": "code",
   "execution_count": 260,
   "id": "8b88dcbf",
   "metadata": {},
   "outputs": [
    {
     "data": {
      "image/png": "[encoded data removed]",
      "text/plain": [
       "<Figure size 800x600 with 2 Axes>"
      ]
     },
     "metadata": {},
     "output_type": "display_data"
    }
   ],
   "source": [
    "import pandas as pd\n",
    "import matplotlib.pyplot as plt\n",
    "import seaborn as sns\n",
    "\n",
    "# Example classification report data\n",
    "report_data = {\n",
    "    'precision': [1.00, 0.78],\n",
    "    'recall': [0.94, 1.00],\n",
    "    'f1-score': [0.97, 0.88]\n",
    "}\n",
    "\n",
    "# Define the classes\n",
    "classes = ['Class 0', 'Class 1']\n",
    "\n",
    "# Convert the report data to a DataFrame\n",
    "df_report = pd.DataFrame(report_data, index=classes)\n",
    "\n",
    "# Plotting the heatmap with adjustments\n",
    "plt.figure(figsize=(8, 6))\n",
    "sns.heatmap(df_report, annot=True, cmap='Blues', fmt='.2f', linewidths=.5, annot_kws={\"size\": 10})\n",
    "plt.title('Classification Report Heatmap')\n",
    "plt.xlabel('Metrics')\n",
    "plt.ylabel('Classes')\n",
    "plt.show()\n",
    "\n"
   ]
  },
  {
   "cell_type": "code",
   "execution_count": 258,
   "id": "93fadfae",
   "metadata": {
    "scrolled": true
   },
   "outputs": [
    {
     "data": {
      "image/png": "[encoded data removed]",
      "text/plain": [
       "<Figure size 800x600 with 1 Axes>"
      ]
     },
     "metadata": {},
     "output_type": "display_data"
    }
   ],
   "source": [
    "import matplotlib.pyplot as plt\n",
    "from sklearn.metrics import roc_curve, auc\n",
    "\n",
    "# Assuming y_test and predictions are already defined\n",
    "# y_test contains the true labels and predictions contains the predicted labels\n",
    "\n",
    "# Compute ROC curve and AUC\n",
    "fpr, tpr, thresholds = roc_curve(y_test, y_pred)\n",
    "roc_auc = auc(fpr, tpr)\n",
    "\n",
    "# Plot ROC curve\n",
    "plt.figure(figsize=(8, 6))\n",
    "plt.plot(fpr, tpr, color='blue', lw=2, label=f'ROC curve (AUC = {roc_auc:.2f})')\n",
    "plt.plot([0, 1], [0, 1], color='gray', linestyle='--')\n",
    "plt.xlim([0.0, 1.0])\n",
    "plt.ylim([0.0, 1.05])\n",
    "plt.xlabel('False Positive Rate (FPR)')\n",
    "plt.ylabel('True Positive Rate (TPR)')\n",
    "plt.title('Receiver Operating Characteristic (ROC) Curve')\n",
    "plt.legend(loc='lower right')\n",
    "plt.show()\n"
   ]
  },
  {
   "cell_type": "markdown",
   "id": "767e2d4b",
   "metadata": {},
   "source": [
    "#### ROC curve \n",
    "An ROC Curve with an AUC value of 0.97 for a decision tree classification model indicates that the model has a strong ability to distinguish between the positive and negative classes. This high AUC value suggests that the model performs very well in ranking and separating the classes, with a high likelihood of correctly identifying positive instances as positive and negative instances as negative. Overall, the ROC Curve's AUC value of 0.97 reflects the model's excellent discriminatory power and predictive performance."
   ]
  }
 ],
 "metadata": {
  "kernelspec": {
   "display_name": "Python 3",
   "language": "python",
   "name": "python3"
  },
  "language_info": {
   "codemirror_mode": {
    "name": "ipython",
    "version": 3
   },
   "file_extension": ".py",
   "mimetype": "text/x-python",
   "name": "python",
   "nbconvert_exporter": "python",
   "pygments_lexer": "ipython3",
   "version": "3.11.5"
  }
 },
 "nbformat": 4,
 "nbformat_minor": 5
}
