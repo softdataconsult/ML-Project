{
 "cells": [
  {
   "cell_type": "code",
   "execution_count": 1,
   "id": "d00b478f",
   "metadata": {},
   "outputs": [
    {
     "name": "stdout",
     "output_type": "stream",
     "text": [
      "Subscribers count by Location:\n",
      " Location\n",
      "Lagos    3\n",
      "Oyo      3\n",
      "Ondo     2\n",
      "Name: count, dtype: int64\n",
      "\n",
      "Customer Loyalty by Location:\n",
      " Customer_Loyalty  Loyal  Not Loyal\n",
      "Location                          \n",
      "Lagos                 2          1\n",
      "Ondo                  0          2\n",
      "Oyo                   2          1\n",
      "\n",
      "Chi-square Test:\n",
      "Chi2: 2.666666666666666\n",
      "p-value: 0.2635971381157269\n",
      "\n",
      "CSR Score by Location:\n",
      " CSR_Score  High  Low  Medium\n",
      "Location                    \n",
      "Lagos         3    0       0\n",
      "Ondo          0    1       1\n",
      "Oyo           0    1       2\n",
      "\n",
      "Chi-square Test for CSR Score by Location:\n",
      "Chi2: 8.222222222222221\n",
      "p-value: 0.08376883048331397\n"
     ]
    }
   ],
   "source": [
    "import pandas as pd\n",
    "\n",
    "# Sample DataFrame creation\n",
    "data = {\n",
    "    'Location': ['Lagos', 'Ondo', 'Oyo', 'Lagos', 'Oyo', 'Ondo', 'Lagos', 'Oyo'],\n",
    "    'Age': ['Below 20', '20-29', '30-39', '40-49', '50-59', '60 & above', '20-29', '30-39'],\n",
    "    'Gender': ['Male', 'Female', 'Male', 'Female', 'Male', 'Female', 'Male', 'Female'],\n",
    "    'Marital_Status': ['Single', 'Married', 'Single', 'Married', 'Single', 'Married', 'Single', 'Married'],\n",
    "    'Education': ['SSCE', 'B.Sc', 'OND', 'Postgraduate', 'HND', 'B.Sc', 'OND', 'HND'],\n",
    "    'Employment_Status': ['Employed', 'Unemployed', 'Employed', 'Unemployed', 'Employed', 'Unemployed', 'Employed', 'Unemployed'],\n",
    "    'CSR_Score': ['High', 'Medium', 'Low', 'High', 'Medium', 'Low', 'High', 'Medium'],\n",
    "    'Customer_Loyalty': ['Loyal', 'Not Loyal', 'Loyal', 'Not Loyal', 'Loyal', 'Not Loyal', 'Loyal', 'Not Loyal']\n",
    "}\n",
    "\n",
    "df = pd.DataFrame(data)\n",
    "\n",
    "# Frequency count of subscribers in each location\n",
    "location_counts = df['Location'].value_counts()\n",
    "print(\"Subscribers count by Location:\\n\", location_counts)\n",
    "\n",
    "# Crosstab analysis to understand the relationship between Location and Customer Loyalty\n",
    "loyalty_by_location = pd.crosstab(df['Location'], df['Customer_Loyalty'])\n",
    "print(\"\\nCustomer Loyalty by Location:\\n\", loyalty_by_location)\n",
    "\n",
    "# Chi-square test to see if there is a significant relationship between Location and Customer Loyalty\n",
    "from scipy.stats import chi2_contingency\n",
    "\n",
    "chi2, p, dof, ex = chi2_contingency(loyalty_by_location)\n",
    "print(\"\\nChi-square Test:\")\n",
    "print(\"Chi2:\", chi2)\n",
    "print(\"p-value:\", p)\n",
    "\n",
    "# Analyzing CSR score distribution by location\n",
    "csr_by_location = pd.crosstab(df['Location'], df['CSR_Score'])\n",
    "print(\"\\nCSR Score by Location:\\n\", csr_by_location)\n",
    "\n",
    "# Chi-square test for CSR Score distribution by Location\n",
    "chi2, p, dof, ex = chi2_contingency(csr_by_location)\n",
    "print(\"\\nChi-square Test for CSR Score by Location:\")\n",
    "print(\"Chi2:\", chi2)\n",
    "print(\"p-value:\", p)\n"
   ]
  }
 ],
 "metadata": {
  "kernelspec": {
   "display_name": "Python 3 (ipykernel)",
   "language": "python",
   "name": "python3"
  },
  "language_info": {
   "codemirror_mode": {
    "name": "ipython",
    "version": 3
   },
   "file_extension": ".py",
   "mimetype": "text/x-python",
   "name": "python",
   "nbconvert_exporter": "python",
   "pygments_lexer": "ipython3",
   "version": "3.11.9"
  }
 },
 "nbformat": 4,
 "nbformat_minor": 5
}
