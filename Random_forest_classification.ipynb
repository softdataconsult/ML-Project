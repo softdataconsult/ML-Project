{
 "cells": [
  {
   "cell_type": "markdown",
   "id": "e2c10a78",
   "metadata": {},
   "source": [
    "#### RANDOM FOREST CLASSIFICATION "
   ]
  },
  {
   "cell_type": "markdown",
   "id": "5074b76c",
   "metadata": {},
   "source": [
    "####  Load the necessary libraries"
   ]
  },
  {
   "cell_type": "code",
   "execution_count": 12,
   "id": "072a089e",
   "metadata": {},
   "outputs": [],
   "source": [
    "import numpy as np\n",
    "import pandas as pd\n",
    "from sklearn.ensemble import RandomForestClassifier\n",
    "from sklearn.model_selection import train_test_split\n",
    "from sklearn.metrics import accuracy_score, classification_report"
   ]
  },
  {
   "cell_type": "code",
   "execution_count": 13,
   "id": "7e0ba5b4",
   "metadata": {},
   "outputs": [
    {
     "name": "stdout",
     "output_type": "stream",
     "text": [
      "Index(['GDP_percapitaUSD', 'Life_exp', 'Ext_debt', 'Age_dep_ratio',\n",
      "       'Population', 'CBR', 'Access_fuels_cooking', 'Access_electricity',\n",
      "       'infant_mortality', 'neonatal_deaths'],\n",
      "      dtype='object')\n",
      "   GDP_percapitaUSD  Life_exp     Ext_debt  Age_dep_ratio  Population     CBR  \\\n",
      "0       2728.022788    37.371  836680592.1      79.636574    44928342  46.107   \n",
      "1         97.420968    37.673  836680592.1      79.603584    45855507  46.243   \n",
      "2        104.852749    37.809  836680592.1      79.679816    46821845  46.426   \n",
      "3        108.015742    38.192  836680592.1      80.003736    47822569  46.421   \n",
      "4        113.658375    38.415  836680592.1      80.639721    48856332  46.463   \n",
      "\n",
      "   Access_fuels_cooking  Access_electricity  infant_mortality  neonatal_deaths  \n",
      "0                   0.0                 2.0        202.250894      140975.5720  \n",
      "1                   0.1                 3.0        200.385976      143289.3341  \n",
      "2                   0.1                 4.0        198.521059      145603.0963  \n",
      "3                   0.1                 4.0        196.656141      147916.8585  \n",
      "4                   0.1                 4.0        194.791224      150230.6207  \n",
      "     GDP_percapitaUSD   Life_exp      Ext_debt  Age_dep_ratio  Population  \\\n",
      "184       2125.834491  52.554000  6.656559e+10      88.334853   198387623   \n",
      "185       2334.023643  52.910000  7.770889e+10      87.680501   203304492   \n",
      "186       1223.603921  52.887000  8.283331e+10      86.931324   208327405   \n",
      "187       2065.774410  52.676000  9.088707e+10      86.107637   213401323   \n",
      "188       2162.633734  53.600033  9.833533e+10      85.250698   218541212   \n",
      "\n",
      "         CBR  Access_fuels_cooking  Access_electricity  infant_mortality  \\\n",
      "184  38.2480                   8.7                54.4              77.1   \n",
      "185  37.8490                  10.7                56.5              75.5   \n",
      "186  37.4670                  12.8                55.4              73.9   \n",
      "187  37.1170                  14.9                55.4              72.3   \n",
      "188  36.7265                  16.8                59.5              70.6   \n",
      "\n",
      "     neonatal_deaths  \n",
      "184         274797.0  \n",
      "185         275991.0  \n",
      "186         276441.0  \n",
      "187         276770.0  \n",
      "188         276463.0  \n"
     ]
    }
   ],
   "source": [
    "# Load the CSV file into a pandas DataFrame\n",
    "df = pd.read_csv('data_for_analysis.csv')\n",
    "\n",
    "# Display the column names to verify correctness\n",
    "print(df.columns)\n",
    "print(df.head())\n",
    "print(df.tail())"
   ]
  },
  {
   "cell_type": "markdown",
   "id": "b995e92f",
   "metadata": {},
   "source": [
    "#### Summary / Descriptive statistics"
   ]
  },
  {
   "cell_type": "code",
   "execution_count": 3,
   "id": "d1f103f7",
   "metadata": {},
   "outputs": [
    {
     "data": {
      "text/html": [
       "<div>\n",
       "<style scoped>\n",
       "    .dataframe tbody tr th:only-of-type {\n",
       "        vertical-align: middle;\n",
       "    }\n",
       "\n",
       "    .dataframe tbody tr th {\n",
       "        vertical-align: top;\n",
       "    }\n",
       "\n",
       "    .dataframe thead th {\n",
       "        text-align: right;\n",
       "    }\n",
       "</style>\n",
       "<table border=\"1\" class=\"dataframe\">\n",
       "  <thead>\n",
       "    <tr style=\"text-align: right;\">\n",
       "      <th></th>\n",
       "      <th>y</th>\n",
       "      <th>x1</th>\n",
       "      <th>x2</th>\n",
       "      <th>x3</th>\n",
       "      <th>x4</th>\n",
       "      <th>x5</th>\n",
       "      <th>x6</th>\n",
       "      <th>x7</th>\n",
       "      <th>x8</th>\n",
       "      <th>x9</th>\n",
       "      <th>...</th>\n",
       "      <th>x2539</th>\n",
       "      <th>x2540</th>\n",
       "      <th>x2541</th>\n",
       "      <th>x2542</th>\n",
       "      <th>x2543</th>\n",
       "      <th>x2544</th>\n",
       "      <th>x2545</th>\n",
       "      <th>x2546</th>\n",
       "      <th>x2547</th>\n",
       "      <th>x2548</th>\n",
       "    </tr>\n",
       "  </thead>\n",
       "  <tbody>\n",
       "    <tr>\n",
       "      <th>count</th>\n",
       "      <td>2132.000000</td>\n",
       "      <td>2132.000000</td>\n",
       "      <td>2132.000000</td>\n",
       "      <td>2132.000000</td>\n",
       "      <td>2132.000000</td>\n",
       "      <td>2132.000000</td>\n",
       "      <td>2132.000000</td>\n",
       "      <td>2132.000000</td>\n",
       "      <td>2132.000000</td>\n",
       "      <td>2132.000000</td>\n",
       "      <td>...</td>\n",
       "      <td>2132.000000</td>\n",
       "      <td>2132.000000</td>\n",
       "      <td>2132.000000</td>\n",
       "      <td>2132.000000</td>\n",
       "      <td>2132.000000</td>\n",
       "      <td>2132.000000</td>\n",
       "      <td>2132.000000</td>\n",
       "      <td>2132.000000</td>\n",
       "      <td>2132.000000</td>\n",
       "      <td>2132.000000</td>\n",
       "    </tr>\n",
       "    <tr>\n",
       "      <th>mean</th>\n",
       "      <td>0.667917</td>\n",
       "      <td>15.256914</td>\n",
       "      <td>27.012462</td>\n",
       "      <td>-104.975629</td>\n",
       "      <td>13.605898</td>\n",
       "      <td>24.150483</td>\n",
       "      <td>0.025378</td>\n",
       "      <td>0.052282</td>\n",
       "      <td>0.301655</td>\n",
       "      <td>0.036793</td>\n",
       "      <td>...</td>\n",
       "      <td>-22.938971</td>\n",
       "      <td>104.946111</td>\n",
       "      <td>-51.973647</td>\n",
       "      <td>-51.973647</td>\n",
       "      <td>104.946111</td>\n",
       "      <td>-6.934144</td>\n",
       "      <td>95.104886</td>\n",
       "      <td>-49.061255</td>\n",
       "      <td>-49.061255</td>\n",
       "      <td>95.104886</td>\n",
       "    </tr>\n",
       "    <tr>\n",
       "      <th>std</th>\n",
       "      <td>0.471071</td>\n",
       "      <td>15.284621</td>\n",
       "      <td>9.265141</td>\n",
       "      <td>206.271960</td>\n",
       "      <td>16.874676</td>\n",
       "      <td>14.187340</td>\n",
       "      <td>17.981796</td>\n",
       "      <td>8.509174</td>\n",
       "      <td>68.098894</td>\n",
       "      <td>17.010031</td>\n",
       "      <td>...</td>\n",
       "      <td>298.034311</td>\n",
       "      <td>212.532721</td>\n",
       "      <td>112.160233</td>\n",
       "      <td>112.160233</td>\n",
       "      <td>212.532721</td>\n",
       "      <td>281.040552</td>\n",
       "      <td>203.194976</td>\n",
       "      <td>106.486317</td>\n",
       "      <td>106.486317</td>\n",
       "      <td>203.194976</td>\n",
       "    </tr>\n",
       "    <tr>\n",
       "      <th>min</th>\n",
       "      <td>0.000000</td>\n",
       "      <td>-61.300000</td>\n",
       "      <td>-114.000000</td>\n",
       "      <td>-970.000000</td>\n",
       "      <td>-137.000000</td>\n",
       "      <td>-217.000000</td>\n",
       "      <td>-218.000000</td>\n",
       "      <td>-255.000000</td>\n",
       "      <td>-1360.000000</td>\n",
       "      <td>-203.000000</td>\n",
       "      <td>...</td>\n",
       "      <td>-1180.000000</td>\n",
       "      <td>-921.000000</td>\n",
       "      <td>-504.000000</td>\n",
       "      <td>-504.000000</td>\n",
       "      <td>-921.000000</td>\n",
       "      <td>-1160.000000</td>\n",
       "      <td>-1010.000000</td>\n",
       "      <td>-521.000000</td>\n",
       "      <td>-521.000000</td>\n",
       "      <td>-1010.000000</td>\n",
       "    </tr>\n",
       "    <tr>\n",
       "      <th>25%</th>\n",
       "      <td>0.000000</td>\n",
       "      <td>6.577500</td>\n",
       "      <td>26.075000</td>\n",
       "      <td>-195.000000</td>\n",
       "      <td>4.857500</td>\n",
       "      <td>23.600000</td>\n",
       "      <td>-3.105000</td>\n",
       "      <td>-1.340000</td>\n",
       "      <td>-4.002500</td>\n",
       "      <td>-2.905000</td>\n",
       "      <td>...</td>\n",
       "      <td>-106.500000</td>\n",
       "      <td>-8.365000</td>\n",
       "      <td>-92.900000</td>\n",
       "      <td>-92.900000</td>\n",
       "      <td>-8.365000</td>\n",
       "      <td>-102.500000</td>\n",
       "      <td>-8.837500</td>\n",
       "      <td>-87.150000</td>\n",
       "      <td>-87.150000</td>\n",
       "      <td>-8.837500</td>\n",
       "    </tr>\n",
       "    <tr>\n",
       "      <th>50%</th>\n",
       "      <td>1.000000</td>\n",
       "      <td>14.100000</td>\n",
       "      <td>30.000000</td>\n",
       "      <td>14.950000</td>\n",
       "      <td>15.400000</td>\n",
       "      <td>25.200000</td>\n",
       "      <td>-0.044600</td>\n",
       "      <td>0.132000</td>\n",
       "      <td>0.957500</td>\n",
       "      <td>-0.099750</td>\n",
       "      <td>...</td>\n",
       "      <td>83.850000</td>\n",
       "      <td>12.150000</td>\n",
       "      <td>-21.800000</td>\n",
       "      <td>-21.800000</td>\n",
       "      <td>12.150000</td>\n",
       "      <td>89.700000</td>\n",
       "      <td>13.400000</td>\n",
       "      <td>-24.100000</td>\n",
       "      <td>-24.100000</td>\n",
       "      <td>13.400000</td>\n",
       "    </tr>\n",
       "    <tr>\n",
       "      <th>75%</th>\n",
       "      <td>1.000000</td>\n",
       "      <td>27.700000</td>\n",
       "      <td>31.400000</td>\n",
       "      <td>29.600000</td>\n",
       "      <td>26.500000</td>\n",
       "      <td>26.800000</td>\n",
       "      <td>2.920000</td>\n",
       "      <td>1.540000</td>\n",
       "      <td>6.735000</td>\n",
       "      <td>2.535000</td>\n",
       "      <td>...</td>\n",
       "      <td>154.000000</td>\n",
       "      <td>177.000000</td>\n",
       "      <td>12.025000</td>\n",
       "      <td>12.025000</td>\n",
       "      <td>177.000000</td>\n",
       "      <td>153.000000</td>\n",
       "      <td>149.250000</td>\n",
       "      <td>10.925000</td>\n",
       "      <td>10.925000</td>\n",
       "      <td>149.250000</td>\n",
       "    </tr>\n",
       "    <tr>\n",
       "      <th>max</th>\n",
       "      <td>1.000000</td>\n",
       "      <td>304.000000</td>\n",
       "      <td>42.300000</td>\n",
       "      <td>661.000000</td>\n",
       "      <td>206.000000</td>\n",
       "      <td>213.000000</td>\n",
       "      <td>402.000000</td>\n",
       "      <td>257.000000</td>\n",
       "      <td>1150.000000</td>\n",
       "      <td>349.000000</td>\n",
       "      <td>...</td>\n",
       "      <td>1070.000000</td>\n",
       "      <td>843.000000</td>\n",
       "      <td>1490.000000</td>\n",
       "      <td>1490.000000</td>\n",
       "      <td>843.000000</td>\n",
       "      <td>1180.000000</td>\n",
       "      <td>888.000000</td>\n",
       "      <td>1670.000000</td>\n",
       "      <td>1670.000000</td>\n",
       "      <td>888.000000</td>\n",
       "    </tr>\n",
       "  </tbody>\n",
       "</table>\n",
       "<p>8 rows × 2549 columns</p>\n",
       "</div>"
      ],
      "text/plain": [
       "                 y           x1           x2           x3           x4  \\\n",
       "count  2132.000000  2132.000000  2132.000000  2132.000000  2132.000000   \n",
       "mean      0.667917    15.256914    27.012462  -104.975629    13.605898   \n",
       "std       0.471071    15.284621     9.265141   206.271960    16.874676   \n",
       "min       0.000000   -61.300000  -114.000000  -970.000000  -137.000000   \n",
       "25%       0.000000     6.577500    26.075000  -195.000000     4.857500   \n",
       "50%       1.000000    14.100000    30.000000    14.950000    15.400000   \n",
       "75%       1.000000    27.700000    31.400000    29.600000    26.500000   \n",
       "max       1.000000   304.000000    42.300000   661.000000   206.000000   \n",
       "\n",
       "                x5           x6           x7           x8           x9  ...  \\\n",
       "count  2132.000000  2132.000000  2132.000000  2132.000000  2132.000000  ...   \n",
       "mean     24.150483     0.025378     0.052282     0.301655     0.036793  ...   \n",
       "std      14.187340    17.981796     8.509174    68.098894    17.010031  ...   \n",
       "min    -217.000000  -218.000000  -255.000000 -1360.000000  -203.000000  ...   \n",
       "25%      23.600000    -3.105000    -1.340000    -4.002500    -2.905000  ...   \n",
       "50%      25.200000    -0.044600     0.132000     0.957500    -0.099750  ...   \n",
       "75%      26.800000     2.920000     1.540000     6.735000     2.535000  ...   \n",
       "max     213.000000   402.000000   257.000000  1150.000000   349.000000  ...   \n",
       "\n",
       "             x2539        x2540        x2541        x2542        x2543  \\\n",
       "count  2132.000000  2132.000000  2132.000000  2132.000000  2132.000000   \n",
       "mean    -22.938971   104.946111   -51.973647   -51.973647   104.946111   \n",
       "std     298.034311   212.532721   112.160233   112.160233   212.532721   \n",
       "min   -1180.000000  -921.000000  -504.000000  -504.000000  -921.000000   \n",
       "25%    -106.500000    -8.365000   -92.900000   -92.900000    -8.365000   \n",
       "50%      83.850000    12.150000   -21.800000   -21.800000    12.150000   \n",
       "75%     154.000000   177.000000    12.025000    12.025000   177.000000   \n",
       "max    1070.000000   843.000000  1490.000000  1490.000000   843.000000   \n",
       "\n",
       "             x2544        x2545        x2546        x2547        x2548  \n",
       "count  2132.000000  2132.000000  2132.000000  2132.000000  2132.000000  \n",
       "mean     -6.934144    95.104886   -49.061255   -49.061255    95.104886  \n",
       "std     281.040552   203.194976   106.486317   106.486317   203.194976  \n",
       "min   -1160.000000 -1010.000000  -521.000000  -521.000000 -1010.000000  \n",
       "25%    -102.500000    -8.837500   -87.150000   -87.150000    -8.837500  \n",
       "50%      89.700000    13.400000   -24.100000   -24.100000    13.400000  \n",
       "75%     153.000000   149.250000    10.925000    10.925000   149.250000  \n",
       "max    1180.000000   888.000000  1670.000000  1670.000000   888.000000  \n",
       "\n",
       "[8 rows x 2549 columns]"
      ]
     },
     "execution_count": 3,
     "metadata": {},
     "output_type": "execute_result"
    }
   ],
   "source": [
    "df.describe()"
   ]
  },
  {
   "cell_type": "code",
   "execution_count": 9,
   "id": "060dabb7",
   "metadata": {},
   "outputs": [],
   "source": [
    "df.size"
   ]
  },
  {
   "cell_type": "code",
   "execution_count": 4,
   "id": "c8819071",
   "metadata": {
    "scrolled": true
   },
   "outputs": [
    {
     "data": {
      "text/plain": [
       "(2132, 2549)"
      ]
     },
     "execution_count": 4,
     "metadata": {},
     "output_type": "execute_result"
    }
   ],
   "source": [
    "df.shape"
   ]
  },
  {
   "cell_type": "markdown",
   "id": "870c0d72",
   "metadata": {},
   "source": [
    "### Convert y series numerical data into binary values"
   ]
  },
  {
   "cell_type": "code",
   "execution_count": 24,
   "id": "4eb6b4bd",
   "metadata": {},
   "outputs": [
    {
     "data": {
      "text/plain": [
       "0      1\n",
       "1      0\n",
       "2      0\n",
       "3      0\n",
       "4      0\n",
       "      ..\n",
       "184    1\n",
       "185    1\n",
       "186    0\n",
       "187    1\n",
       "188    1\n",
       "Name: GDP_binary, Length: 189, dtype: int32"
      ]
     },
     "execution_count": 24,
     "metadata": {},
     "output_type": "execute_result"
    }
   ],
   "source": [
    "# Define a threshold for binary conversion\n",
    "threshold = 2000\n",
    "\n",
    "# Convert 'GDP_percapitaUSD' to binary (0 or 1) based on the threshold\n",
    "df['GDP_binary'] = (df['GDP_percapitaUSD'] >= threshold).astype(int)\n",
    "\n",
    "# Display the DataFrame with binary conversion\n",
    "df['GDP_binary'] "
   ]
  },
  {
   "cell_type": "markdown",
   "id": "5df70fa6",
   "metadata": {},
   "source": [
    "#### Split the dataset into training and testing sets"
   ]
  },
  {
   "cell_type": "code",
   "execution_count": 25,
   "id": "892aea69",
   "metadata": {},
   "outputs": [],
   "source": [
    "## Assuming 'df' contains the dataset with feature variables and target variable 'y'\n",
    "\n",
    "# Extracting selected features (columns 2 to 10)\n",
    "\n",
    "selected_features = df.iloc[:, 1:10]  # Assuming columns 2 to 2549 are your feature variables\n",
    "\n",
    "# Extracting the target variable 'y'\n",
    "y = df['GDP_binary']\n",
    "target_variable = df['GDP_binary']  # Assuming 'y' is the name of your target variable column\n",
    "\n",
    "# Splitting the data into training and testing sets (e.g., 80% training, 20% testing)\n",
    "X_train, X_test, y_train, y_test = train_test_split(selected_features, target_variable, test_size=0.2, random_state=123)"
   ]
  },
  {
   "cell_type": "markdown",
   "id": "4f822e50",
   "metadata": {},
   "source": [
    "#### Data normalisation"
   ]
  },
  {
   "cell_type": "code",
   "execution_count": 26,
   "id": "2d3c2d88",
   "metadata": {},
   "outputs": [],
   "source": [
    "# Performing data normalisation\n",
    "from sklearn.preprocessing import StandardScaler\n",
    "sc=StandardScaler()\n",
    "\n",
    "# scaling the training set\n",
    "X_train = sc.fit_transform(X_train)\n",
    "\n",
    "#scaling the test set\n",
    "X_test = sc.transform (X_test)"
   ]
  },
  {
   "cell_type": "markdown",
   "id": "dde1b568",
   "metadata": {},
   "source": [
    "#### Training the Random forest model "
   ]
  },
  {
   "cell_type": "code",
   "execution_count": 27,
   "id": "65e335ca",
   "metadata": {},
   "outputs": [],
   "source": [
    "# Performing RANDOM FOREST CLASSIFICATION\n",
    "rf_model = RandomForestClassifier (random_state=42, max_depth=6,  n_estimators=10)\n",
    "\n",
    "# training and testing the random forest\n",
    "rf_model.fit(X_train, y_train)\n",
    "y_pred = rf_model.predict(X_test)"
   ]
  },
  {
   "cell_type": "code",
   "execution_count": 28,
   "id": "418f070e",
   "metadata": {
    "scrolled": true
   },
   "outputs": [
    {
     "name": "stdout",
     "output_type": "stream",
     "text": [
      "Accuracy: 0.9210526315789473\n"
     ]
    }
   ],
   "source": [
    "# Calculate the accuracy of the model\n",
    "accuracy = accuracy_score(y_test, y_pred)\n",
    "print(f\"Accuracy: {accuracy}\")"
   ]
  },
  {
   "cell_type": "markdown",
   "id": "88a19290",
   "metadata": {},
   "source": [
    "#### Confusion matrix"
   ]
  },
  {
   "cell_type": "code",
   "execution_count": 29,
   "id": "ee248396",
   "metadata": {},
   "outputs": [],
   "source": [
    "# Confusion matrix\n",
    "import matplotlib.pyplot as plt\n",
    "import seaborn as sns\n",
    "from sklearn.metrics import confusion_matrix"
   ]
  },
  {
   "cell_type": "code",
   "execution_count": 30,
   "id": "b74f8e6e",
   "metadata": {},
   "outputs": [
    {
     "name": "stdout",
     "output_type": "stream",
     "text": [
      "[[28  3]\n",
      " [ 0  7]]\n"
     ]
    }
   ],
   "source": [
    "### Calculate the confusion matrix\n",
    "cm = confusion_matrix(y_test, y_pred)  # note that y_test is the actual or true data\n",
    "print(cm)"
   ]
  },
  {
   "cell_type": "markdown",
   "id": "54f6ae28",
   "metadata": {},
   "source": [
    "#### The confusion matrix\n",
    "\n",
    "\\begin{array}{c|c|c|}\n",
    "& \\text{Predicted Class 0 (Negative)} & \\text{Predicted Class 1 (Positive)} \\\\\n",
    "\\hline\n",
    "\\text{Actual Class 0 (Negative)} & 28 & 3 \\\\\n",
    "\\hline\n",
    "\\text{Actual Class 1 (Positive)} & 0 & 7 \\\\\n",
    "\\end{array}\n",
    "\n",
    "Interpretation of the confusion matrix:\n",
    "- **True Negative (TN):** There are 28 instances where the model correctly predicted the GDP per capita trend to be below the threshold (Class 0 - Negative) when it was actually below the threshold.\n",
    "- **False Positive (FP):** There are 3 instances where the model incorrectly predicted the GDP per capita trend to be above the threshold (Class 1 - Positive) when it was actually below the threshold.\n",
    "- **False Negative (FN):** There are 0 instances where the model incorrectly predicted the GDP per capita trend to be below the threshold (Class 0 - Negative) when it was actually above the threshold.\n",
    "- **True Positive (TP):** There are 7 instances where the model correctly predicted the GDP per capita trend to be above the threshold (Class 1 - Positive) when it was actually above the threshold.\n",
    "\n",
    "This confusion matrix helps evaluate the performance of a binary classifier (e.g., logistic regression) in predicting GDP per capita trends as either below or above the threshold. It shows that the model has a relatively high number of true negatives and true positives, indicating a good ability to correctly classify instances into their respective classes. However, there are also a few false positives, suggesting areas where the model could be further optimized.\n"
   ]
  },
  {
   "cell_type": "code",
   "execution_count": 35,
   "id": "d27d64c0",
   "metadata": {},
   "outputs": [
    {
     "data": {
      "image/png": "[encoded data removed]",
      "text/plain": [
       "<Figure size 800x600 with 2 Axes>"
      ]
     },
     "metadata": {},
     "output_type": "display_data"
    }
   ],
   "source": [
    "# Example confusion matrix data\n",
    "confusion_matrix_data = {\n",
    "    'Predicted Class 0': [28, 0],\n",
    "    'Predicted Class 1': [3, 7]\n",
    "}\n",
    "\n",
    "# Convert the confusion matrix data to a DataFrame\n",
    "df_confusion_matrix = pd.DataFrame(confusion_matrix_data, index=['Actual Class 0', 'Actual Class 1'])\n",
    "\n",
    "# Plotting the confusion matrix heatmap\n",
    "plt.figure(figsize=(8, 6))\n",
    "sns.heatmap(df_confusion_matrix, annot=True, cmap='Blues', fmt='d')\n",
    "plt.title('Confusion Matrix Heatmap')\n",
    "plt.xlabel('Predicted Classes')\n",
    "plt.ylabel('Actual Classes')\n",
    "plt.show()\n"
   ]
  },
  {
   "cell_type": "markdown",
   "id": "a8373bfe",
   "metadata": {},
   "source": [
    "#### Classification report"
   ]
  },
  {
   "cell_type": "code",
   "execution_count": 32,
   "id": "22104cb2",
   "metadata": {},
   "outputs": [
    {
     "name": "stdout",
     "output_type": "stream",
     "text": [
      "              precision    recall  f1-score   support\n",
      "\n",
      "           0       1.00      0.90      0.95        31\n",
      "           1       0.70      1.00      0.82         7\n",
      "\n",
      "    accuracy                           0.92        38\n",
      "   macro avg       0.85      0.95      0.89        38\n",
      "weighted avg       0.94      0.92      0.93        38\n",
      "\n"
     ]
    }
   ],
   "source": [
    "# classification report\n",
    "class_rept = classification_report(y_test, y_pred)\n",
    "#print(f\"class_rept: {Classification report}\")\n",
    "print(class_rept)"
   ]
  },
  {
   "cell_type": "markdown",
   "id": "08258231",
   "metadata": {},
   "source": [
    "#### Classification report\n",
    "\n",
    "Here's a better-formatted table based on the provided classification report, along with its interpretation:\n",
    "\n",
    "\\begin{array}{c|c|c|c|c|}\n",
    "\\text{Class} & \\text{Precision} & \\text{Recall} & \\text{F1-Score} & \\text{Support} \\\\\n",
    "\\hline\n",
    "0 & 1.00 & 0.90 & 0.95 & 31 \\\\\n",
    "1 & 0.70 & 1.00 & 0.82 & 7 \\\\\n",
    "\\hline\n",
    "\\text{Accuracy} & & & 0.92 \\\\\n",
    "\\text{Macro Avg} & 0.85 & 0.95 & 0.89 & 38 \\\\\n",
    "\\text{Weighted Avg} & 0.94 & 0.92 & 0.93 & 38 \\\\\n",
    "\\end{array}\n",
    "\n",
    "Interpretation of the classification report:\n",
    "- **Precision:** Precision measures the proportion of true positive predictions among all positive predictions made by the model.\n",
    "  - Class 0: Precision of 1.00 (100%) means that when the model predicts a GDP per capita trend to be below the threshold (Class 0), it is correct 100% of the time.\n",
    "  - Class 1: Precision of 0.70 (70%) means that when the model predicts a GDP per capita trend to be above the threshold (Class 1), it is correct 70% of the time.\n",
    "\n",
    "- **Recall (Sensitivity):** Recall measures the proportion of true positive predictions among all actual positive instances in the dataset.\n",
    "  - Class 0: Recall of 0.90 (90%) means that the model correctly identifies 90% of instances of GDP per capita trends below the threshold (Class 0) out of all actual instances of Class 0.\n",
    "  - Class 1: Recall of 1.00 (100%) means that the model captures 100% of instances of GDP per capita trends above the threshold (Class 1) out of all actual instances of Class 1.\n",
    "\n",
    "- **F1-Score:** F1-score is the harmonic mean of precision and recall, providing a balanced measure of a model's performance.\n",
    "  - Class 0: F1-Score of 0.95 (95%) combines the precision and recall for Class 0, providing a single metric that balances both aspects.\n",
    "  - Class 1: F1-Score of 0.82 (82%) combines the precision and recall for Class 1, providing a single metric that balances both aspects.\n",
    "\n",
    "- **Support:** Support represents the number of actual occurrences of each class in the dataset.\n",
    "  - Class 0: Support of 31 indicates there are 31 instances of GDP per capita trends below the threshold (Class 0) in the dataset.\n",
    "  - Class 1: Support of 7 indicates there are 7 instances of GDP per capita trends above the threshold (Class 1) in the dataset.\n",
    "\n",
    "- **Accuracy:** Overall accuracy of 0.92 (92%) indicates that the model correctly predicts the GDP per capita trend (either below or above the threshold) 92% of the time across all instances in the dataset.\n",
    "  \n",
    "- **Macro Avg:** Macro average precision, recall, and F1-score provide the average performance across classes without considering class imbalance. In this case, it shows an average precision of 0.85 (85%), recall of 0.95 (95%), and F1-score of 0.89 (89%) across both classes.\n",
    "\n",
    "- **Weighted Avg:** Weighted average precision, recall, and F1-score provide the average performance across classes while considering class imbalance. In this case, it shows a weighted average precision of 0.94 (94%), recall of 0.92 (92%), and F1-score of 0.93 (93%) across both classes, weighted by the number of instances in each class.\n",
    "\n",
    "Overall, the model demonstrates strong performance, with perfect precision for Class 0 (Negative) and relatively high precision and recall for Class 1 (Positive). The accuracy, macro average, and weighted average metrics also suggest a reliable model, though it's essential to ensure a balance between precision and recall based on the specific application context.\n"
   ]
  },
  {
   "cell_type": "code",
   "execution_count": 33,
   "id": "8b88dcbf",
   "metadata": {},
   "outputs": [
    {
     "data": {
      "image/png": "[encoded data removed]",
      "text/plain": [
       "<Figure size 800x600 with 2 Axes>"
      ]
     },
     "metadata": {},
     "output_type": "display_data"
    }
   ],
   "source": [
    "import matplotlib.pyplot as plt\n",
    "import seaborn as sns\n",
    "from sklearn.metrics import classification_report\n",
    "from sklearn.metrics import confusion_matrix\n",
    "\n",
    "# Example classification report data\n",
    "report_data = {\n",
    "    'precision': [1.00, 0.70],\n",
    "    'recall': [0.90, 1.00],\n",
    "    'f1-score': [0.95, 0.82]\n",
    "}\n",
    "\n",
    "# Define the classes\n",
    "classes = ['Class 0', 'Class 1']\n",
    "\n",
    "# Convert the report data to a DataFrame\n",
    "df_report = pd.DataFrame(report_data, index=classes)\n",
    "\n",
    "# Plotting the heatmap\n",
    "plt.figure(figsize=(8, 6))\n",
    "sns.heatmap(df_report, annot=True, cmap='Blues', fmt='.2f')\n",
    "plt.title('Classification Report Heatmap')\n",
    "plt.xlabel('Metrics')\n",
    "plt.ylabel('Classes')\n",
    "plt.show()\n"
   ]
  },
  {
   "cell_type": "code",
   "execution_count": 34,
   "id": "93fadfae",
   "metadata": {
    "scrolled": true
   },
   "outputs": [
    {
     "data": {
      "image/png": "[encoded data removed]",
      "text/plain": [
       "<Figure size 800x600 with 1 Axes>"
      ]
     },
     "metadata": {},
     "output_type": "display_data"
    }
   ],
   "source": [
    "import matplotlib.pyplot as plt\n",
    "from sklearn.metrics import roc_curve, auc\n",
    "\n",
    "# Assuming y_test and predictions are already defined\n",
    "# y_test contains the true labels and predictions contains the predicted labels\n",
    "\n",
    "# Compute ROC curve and AUC\n",
    "fpr, tpr, thresholds = roc_curve(y_test, y_pred)\n",
    "roc_auc = auc(fpr, tpr)\n",
    "\n",
    "# Plot ROC curve\n",
    "plt.figure(figsize=(8, 6))\n",
    "plt.plot(fpr, tpr, color='blue', lw=2, label=f'ROC curve (AUC = {roc_auc:.2f})')\n",
    "plt.plot([0, 1], [0, 1], color='gray', linestyle='--')\n",
    "plt.xlim([0.0, 1.0])\n",
    "plt.ylim([0.0, 1.05])\n",
    "plt.xlabel('False Positive Rate (FPR)')\n",
    "plt.ylabel('True Positive Rate (TPR)')\n",
    "plt.title('Receiver Operating Characteristic (ROC) Curve')\n",
    "plt.legend(loc='lower right')\n",
    "plt.show()\n"
   ]
  },
  {
   "cell_type": "markdown",
   "id": "249ba3cd",
   "metadata": {},
   "source": [
    "#### ROC curve \n",
    "\n",
    "A Random Forest model with an ROC Curve (AUC) value of 0.95 indicates that the model has a high ability to distinguish between the positive and negative classes. This high AUC value suggests that the model performs very well in ranking and separating the classes, with a strong likelihood of correctly identifying positive instances as positive and negative instances as negative. Overall, the ROC Curve's AUC value of 0.95 reflects the model's excellent discriminatory power and predictive performance."
   ]
  }
 ],
 "metadata": {
  "kernelspec": {
   "display_name": "Python 3 (ipykernel)",
   "language": "python",
   "name": "python3"
  },
  "language_info": {
   "codemirror_mode": {
    "name": "ipython",
    "version": 3
   },
   "file_extension": ".py",
   "mimetype": "text/x-python",
   "name": "python",
   "nbconvert_exporter": "python",
   "pygments_lexer": "ipython3",
   "version": "3.11.9"
  }
 },
 "nbformat": 4,
 "nbformat_minor": 5
}
